{
 "cells": [
  {
   "cell_type": "markdown",
   "metadata": {},
   "source": [
    "This is a *Jupyter Notebook*. You can download it and execute it in your computer, if you install *jupyter* and other requirements. Even so, it is better that you create a program with the [basic structure](https://cstopics.github.io/cstopics/programming/c-c++/1_basic_structure), and test all the code lines there.\n",
    "\n",
    "Note that if you does not include semicolon in an expression, it is going to be evaluated and its result is going to be shown. ***Be careful, this bevahior is only present in the notebook, if you does not include semicolon in real programs, the compiler will fail and show an error***."
   ]
  },
  {
   "cell_type": "markdown",
   "metadata": {},
   "source": [
    "# Classes & Structures"
   ]
  },
  {
   "cell_type": "code",
   "execution_count": 5,
   "metadata": {},
   "outputs": [],
   "source": [
    "#include <iostream>"
   ]
  },
  {
   "cell_type": "markdown",
   "metadata": {},
   "source": [
    "## Structures\n",
    "Structures groups data of basic types, or other structures. Consider the following example:"
   ]
  },
  {
   "cell_type": "code",
   "execution_count": 2,
   "metadata": {},
   "outputs": [],
   "source": [
    "struct Struct1 {\n",
    "    int x=0;\n",
    "    double y=1.0, z=2.2;\n",
    "};"
   ]
  },
  {
   "cell_type": "markdown",
   "metadata": {},
   "source": [
    "After you create a struct, you can treat it as a data type, creating new variables:"
   ]
  },
  {
   "cell_type": "code",
   "execution_count": 3,
   "metadata": {},
   "outputs": [],
   "source": [
    "Struct1 var1;"
   ]
  },
  {
   "cell_type": "markdown",
   "metadata": {},
   "source": [
    "By deafult, all the members (*x*, *y* and *z* in the example) are public, that means that they can be accessed directly from the variable:"
   ]
  },
  {
   "cell_type": "code",
   "execution_count": 4,
   "metadata": {},
   "outputs": [
    {
     "name": "stdout",
     "output_type": "stream",
     "text": [
      "var1.y=1\n",
      "var1.x=21\n"
     ]
    }
   ],
   "source": [
    "std::cout << \"var1.y=\" << var1.y << std::endl;\n",
    "var1.x += 21;\n",
    "std::cout << \"var1.x=\" << var1.x << std::endl;"
   ]
  },
  {
   "cell_type": "markdown",
   "metadata": {},
   "source": [
    "## Memory Alignment\n",
    "\n",
    "Consider the structure below:"
   ]
  },
  {
   "cell_type": "code",
   "execution_count": 5,
   "metadata": {},
   "outputs": [],
   "source": [
    "struct scrAlig1{\n",
    "    char a;\n",
    "    char b;\n",
    "};"
   ]
  },
  {
   "cell_type": "markdown",
   "metadata": {},
   "source": [
    "Check the structure size using the *sizeof()* function."
   ]
  },
  {
   "cell_type": "code",
   "execution_count": 6,
   "metadata": {},
   "outputs": [
    {
     "data": {
      "text/plain": [
       "2"
      ]
     },
     "execution_count": 6,
     "metadata": {},
     "output_type": "execute_result"
    }
   ],
   "source": [
    "sizeof(scrAlig1)"
   ]
  },
  {
   "cell_type": "markdown",
   "metadata": {},
   "source": [
    "We got 2 bytes, as we expected. But what happens with the following structure:"
   ]
  },
  {
   "cell_type": "code",
   "execution_count": 7,
   "metadata": {},
   "outputs": [
    {
     "data": {
      "text/plain": [
       "12"
      ]
     },
     "execution_count": 7,
     "metadata": {},
     "output_type": "execute_result"
    }
   ],
   "source": [
    "struct scrAlig2{\n",
    "    char a;\n",
    "    char b;\n",
    "    int c;\n",
    "    char d;\n",
    "};\n",
    "sizeof(scrAlig2)"
   ]
  },
  {
   "cell_type": "markdown",
   "metadata": {},
   "source": [
    "Why do not we get 7 bytes? (Remember that *sizeof(char)* is $1$ and *sizeof(int) is $4$*). We could think that the memory distribution is as follows:\n",
    "\n",
    "| Offset | Data  |\n",
    "|--------|-------|\n",
    "| 0x0000 | $a$   |\n",
    "| 0x0001 | $b$   |\n",
    "| 0x0002 | $c_0$ |\n",
    "| 0x0003 | $c_1$ |\n",
    "| 0x0004 | $c_2$ |\n",
    "| 0x0005 | $c_3$ |\n",
    "| 0x0006 | $d$   |\n",
    "\n",
    "But it is nor ordered in that way, because the system tries to align data to an specific *block size*, that is usually $4$. Before, $a$ and $b$ are allocated, and $c$ tries to be allocated, system realizes it does not fit in the current block (*0x0000* to *0x0003*), so it discards the addresses *0x0002* and *0x0003*, and allocates $c$ in 0x0004, being like this ( *NU* means *not used*):\n",
    "\n",
    "| Offset | Data  |\n",
    "|--------|-------|\n",
    "| 0x0000 | $a$   |\n",
    "| 0x0001 | $b$   |\n",
    "| 0x0002 | N/U   |\n",
    "| 0x0003 | N/U   |\n",
    "| 0x0004 | $c_0$ |\n",
    "| 0x0005 | $c_1$ |\n",
    "| 0x0006 | $c_2$ |\n",
    "| 0x0007 | $c_3$ |\n",
    "| 0x0008 | $d$   |\n",
    "| 0x0009 | N/U   |\n",
    "| 0x000A | N/U   |\n",
    "| 0x000B | N/U   |"
   ]
  },
  {
   "cell_type": "markdown",
   "metadata": {},
   "source": [
    "## Classes\n",
    "\n",
    "In C++, structures and classes are almost the same thing. In a structure you can create private variables, functio member, and more. But in general, when we want to create that elements in a structure, we actually use classes instead.\n",
    "\n",
    "### Data members\n",
    "\n",
    "The first difference is that, by default, members in a class are private, and if you want to create public members, you have to specify that explicitly:"
   ]
  },
  {
   "cell_type": "code",
   "execution_count": 5,
   "metadata": {},
   "outputs": [],
   "source": [
    "class Class1 {\n",
    "  // private by default\n",
    "  float a = 2;\n",
    "public:\n",
    "  // public members\n",
    "  int x = 4;\n",
    "};"
   ]
  },
  {
   "cell_type": "markdown",
   "metadata": {},
   "source": [
    "You use classes as data types, similar to structures, buy the variables created from classes are called *objects*:"
   ]
  },
  {
   "cell_type": "code",
   "execution_count": 6,
   "metadata": {},
   "outputs": [],
   "source": [
    "Class1 obj1;"
   ]
  },
  {
   "cell_type": "markdown",
   "metadata": {},
   "source": [
    "You can access public members of an object:"
   ]
  },
  {
   "cell_type": "code",
   "execution_count": 7,
   "metadata": {},
   "outputs": [
    {
     "name": "stdout",
     "output_type": "stream",
     "text": [
      "obj1.x=4\n"
     ]
    }
   ],
   "source": [
    "std::cout << \"obj1.x=\" << obj1.x << std::endl;"
   ]
  },
  {
   "cell_type": "markdown",
   "metadata": {},
   "source": [
    "But you can not access private members:"
   ]
  },
  {
   "cell_type": "code",
   "execution_count": 8,
   "metadata": {},
   "outputs": [
    {
     "name": "stderr",
     "output_type": "stream",
     "text": [
      "\u001b[1minput_line_14:2:33: \u001b[0m\u001b[0;1;31merror: \u001b[0m\u001b[1m'a' is a private member of 'Class1'\u001b[0m\n",
      " std::cout << \"obj1.a=\" << obj1.a << std::endl;\n",
      "\u001b[0;1;32m                                ^\n",
      "\u001b[0m\u001b[1minput_line_11:3:9: \u001b[0m\u001b[0;1;30mnote: \u001b[0mimplicitly declared private here\u001b[0m\n",
      "  float a = 2;\n",
      "\u001b[0;1;32m        ^\n",
      "\u001b[0m"
     ]
    },
    {
     "ename": "Interpreter Error",
     "evalue": "",
     "output_type": "error",
     "traceback": [
      "Interpreter Error: "
     ]
    }
   ],
   "source": [
    "std::cout << \"obj1.a=\" << obj1.a << std::endl;"
   ]
  },
  {
   "cell_type": "markdown",
   "metadata": {},
   "source": [
    "### Function members\n",
    "\n",
    "You can create public function members inside your classes, in order to process the public or private members:"
   ]
  },
  {
   "cell_type": "code",
   "execution_count": 9,
   "metadata": {},
   "outputs": [],
   "source": [
    "class Class2 {\n",
    "    float a = 2;\n",
    "public:\n",
    "    int x = 4;\n",
    "    int get_a(){\n",
    "        return a;\n",
    "    }\n",
    "    void set_a(int _a){\n",
    "        a = _a;\n",
    "    }\n",
    "    void a_plus_1_to_x(){\n",
    "        x = a+1;\n",
    "    }\n",
    "};"
   ]
  },
  {
   "cell_type": "code",
   "execution_count": 10,
   "metadata": {},
   "outputs": [],
   "source": [
    "Class2 obj2;"
   ]
  },
  {
   "cell_type": "code",
   "execution_count": 11,
   "metadata": {},
   "outputs": [
    {
     "name": "stdout",
     "output_type": "stream",
     "text": [
      "obj2.a=2\n",
      "obj2.a=12\n",
      "obj2.x=13\n"
     ]
    }
   ],
   "source": [
    "std::cout << \"obj2.a=\" << obj2.get_a() << std::endl;\n",
    "obj2.set_a(12);\n",
    "std::cout << \"obj2.a=\" << obj2.get_a() << std::endl;\n",
    "obj2.a_plus_1_to_x();\n",
    "std::cout << \"obj2.x=\" << obj2.x << std::endl;"
   ]
  },
  {
   "cell_type": "markdown",
   "metadata": {},
   "source": [
    "But if you create private function member, you only will be able to call them from public function members:"
   ]
  },
  {
   "cell_type": "code",
   "execution_count": 12,
   "metadata": {},
   "outputs": [],
   "source": [
    "class Class3 {\n",
    "    float a = 2;\n",
    "    void inc_a(){\n",
    "        a++;\n",
    "    }\n",
    "public:\n",
    "    int get_a(){\n",
    "        return a;\n",
    "    }\n",
    "    void process_a(){\n",
    "        inc_a();\n",
    "    }\n",
    "};"
   ]
  },
  {
   "cell_type": "code",
   "execution_count": 13,
   "metadata": {},
   "outputs": [],
   "source": [
    "Class3 obj3;"
   ]
  },
  {
   "cell_type": "code",
   "execution_count": 14,
   "metadata": {},
   "outputs": [
    {
     "name": "stderr",
     "output_type": "stream",
     "text": [
      "\u001b[1minput_line_20:2:7: \u001b[0m\u001b[0;1;31merror: \u001b[0m\u001b[1m'inc_a' is a private member of 'Class3'\u001b[0m\n",
      " obj3.inc_a();\n",
      "\u001b[0;1;32m      ^\n",
      "\u001b[0m\u001b[1minput_line_18:3:10: \u001b[0m\u001b[0;1;30mnote: \u001b[0mimplicitly declared private here\u001b[0m\n",
      "    void inc_a(){\n",
      "\u001b[0;1;32m         ^\n",
      "\u001b[0m"
     ]
    },
    {
     "ename": "Interpreter Error",
     "evalue": "",
     "output_type": "error",
     "traceback": [
      "Interpreter Error: "
     ]
    }
   ],
   "source": [
    "obj3.inc_a();"
   ]
  },
  {
   "cell_type": "code",
   "execution_count": 15,
   "metadata": {},
   "outputs": [
    {
     "name": "stdout",
     "output_type": "stream",
     "text": [
      "obj3.a=3\n"
     ]
    }
   ],
   "source": [
    "obj3.process_a();\n",
    "std::cout << \"obj3.a=\" << obj3.get_a() << std::endl;"
   ]
  },
  {
   "cell_type": "markdown",
   "metadata": {},
   "source": [
    "### Constructors and destructors\n",
    "\n",
    "Consider thw following class definition:"
   ]
  },
  {
   "cell_type": "code",
   "execution_count": 7,
   "metadata": {},
   "outputs": [],
   "source": [
    "class CompleteClass{\n",
    "    int x;\n",
    "    int y;\n",
    "public:\n",
    "    CompleteClass(): x{10}, y{20} { //Constructor\n",
    "        //x = 0;\n",
    "        //y = 0;\n",
    "        std::cout << \"Object created\" << std::endl;\n",
    "    };\n",
    "    CompleteClass(int _x, int _y): x{_x}, y{_y} { //Constructor\n",
    "        //x = 0;\n",
    "        //y = 0;\n",
    "        std::cout << \"Object created\" << std::endl;\n",
    "    };\n",
    "    ~CompleteClass(){ // Destructor\n",
    "        std::cout << \"Object deleted\" << std::endl;\n",
    "    };\n",
    "    int get_x() {return x;};\n",
    "    int get_y() {return y;};\n",
    "    void set_x(int _x) {x = _x;};\n",
    "    void set_y(int _y) {y = _y;};\n",
    "};"
   ]
  },
  {
   "cell_type": "markdown",
   "metadata": {},
   "source": [
    "Constructors and destructors do not have return type, and theri name is the same that the class. The destructor starts with the character '~'.\n",
    "\n",
    "The constructor is executed when the object is created, and the destructor when the object is deleted. Consider the following function (remember that, when you create a local variable in a function, the object is deleted when the function finishes):"
   ]
  },
  {
   "cell_type": "code",
   "execution_count": 10,
   "metadata": {},
   "outputs": [],
   "source": [
    "void testClass1(){\n",
    "    CompleteClass obj1;\n",
    "    std::cout << \"obj1.x = \" << obj1.get_x() << std::endl;\n",
    "    std::cout << \"obj1.y = \" << obj1.get_y() << std::endl;\n",
    "}"
   ]
  },
  {
   "cell_type": "code",
   "execution_count": 11,
   "metadata": {},
   "outputs": [
    {
     "name": "stdout",
     "output_type": "stream",
     "text": [
      "Object created\n",
      "obj1.x = 10\n",
      "obj1.y = 20\n",
      "Object deleted\n"
     ]
    }
   ],
   "source": [
    "testClass1()"
   ]
  },
  {
   "cell_type": "markdown",
   "metadata": {},
   "source": [
    "Note where the object is created and deleted. \n",
    "\n",
    "Notice also the way the members are initialized, if you do not initialize them, but you assign values in the contructor, what you are actually doing is initializing the members with garbage, adn then"
   ]
  },
  {
   "cell_type": "markdown",
   "metadata": {},
   "source": [
    "### Pointers to structures and classes\n",
    "\n"
   ]
  },
  {
   "cell_type": "code",
   "execution_count": null,
   "metadata": {},
   "outputs": [],
   "source": []
  }
 ],
 "metadata": {
  "kernelspec": {
   "display_name": "C++14",
   "language": "C++14",
   "name": "xeus-cling-cpp14"
  },
  "language_info": {
   "codemirror_mode": "text/x-c++src",
   "file_extension": ".cpp",
   "mimetype": "text/x-c++src",
   "name": "c++",
   "version": "-std=c++14"
  }
 },
 "nbformat": 4,
 "nbformat_minor": 2
}
