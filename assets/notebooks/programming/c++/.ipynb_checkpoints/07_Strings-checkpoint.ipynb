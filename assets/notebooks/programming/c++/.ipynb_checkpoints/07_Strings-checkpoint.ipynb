{
 "cells": [
  {
   "cell_type": "markdown",
   "metadata": {},
   "source": [
    "This is a *Jupyter Notebook*. You can download it and execute it in your computer, if you install *jupyter* and other requirements. Even so, it is better that you create a program with the [basic structure](https://cstopics.github.io/cstopics/programming/c-c++/1_basic_structure), and test all the code lines there.\n",
    "\n",
    "Note that if you does not include semicolon in an expression, it is going to be evaluated and its result is going to be shown. ***Be careful, this bevahior is only present in the notebook, if you does not include semicolon in real programs, the compiler will fail and show an error***."
   ]
  },
  {
   "cell_type": "code",
   "execution_count": 1,
   "metadata": {},
   "outputs": [],
   "source": [
    "#include <iostream>"
   ]
  },
  {
   "cell_type": "markdown",
   "metadata": {},
   "source": [
    "# Strings\n",
    "\n",
    "Strings in C (we are not talking about the *String* class of C++ standard library) are one dimensional arrays, that must always finish with a **null** character **'\\0'** (0 number).\n",
    "\n",
    "You can create a string as follows (the compiler will add the **'\\0'** character at the end of the array):"
   ]
  },
  {
   "cell_type": "code",
   "execution_count": 2,
   "metadata": {},
   "outputs": [],
   "source": [
    "char greeting1[] = \"Hello\";"
   ]
  },
  {
   "cell_type": "markdown",
   "metadata": {},
   "source": [
    "And it is equivalent to:"
   ]
  },
  {
   "cell_type": "code",
   "execution_count": 3,
   "metadata": {},
   "outputs": [],
   "source": [
    "char greeting2[6] = {'H', 'e', 'l', 'l', 'o', '\\0'};"
   ]
  },
  {
   "cell_type": "markdown",
   "metadata": {},
   "source": [
    "You can also create it as a *char* pointer, but it will show a warning:"
   ]
  },
  {
   "cell_type": "code",
   "execution_count": 4,
   "metadata": {},
   "outputs": [
    {
     "name": "stderr",
     "output_type": "stream",
     "text": [
      "\u001b[1minput_line_10:2:20: \u001b[0m\u001b[0;1;35mwarning: \u001b[0m\u001b[1mISO C++11 does not allow conversion from string literal to 'char *'\n",
      "      [-Wwritable-strings]\u001b[0m\n",
      " char *greeting3 = \"Hello\";\n",
      "\u001b[0;1;32m                   ^\n",
      "\u001b[0m"
     ]
    }
   ],
   "source": [
    "char *greeting3 = \"Hello\";"
   ]
  },
  {
   "cell_type": "markdown",
   "metadata": {},
   "source": [
    "And each character is stored after the previous one (remember thar $sizeof(char)=1$).\n",
    "\n",
    "Even though *greeting1*, *greeting2* and *greeting3* are pointers to *char*, when you print them, the system prints character by character, until finishing the string (without including the null):"
   ]
  },
  {
   "cell_type": "code",
   "execution_count": 5,
   "metadata": {},
   "outputs": [
    {
     "name": "stdout",
     "output_type": "stream",
     "text": [
      "Hello\n",
      "Hello\n",
      "Hello\n"
     ]
    }
   ],
   "source": [
    "std::cout << greeting1 << std::endl;\n",
    "std::cout << greeting2 << std::endl;\n",
    "std::cout << greeting3 << std::endl;"
   ]
  },
  {
   "cell_type": "markdown",
   "metadata": {},
   "source": [
    "When you does not include the size of the array (as in the declaration of *greeting1* and *greeting3*), it is only allocated the size for the specified characters plus the null. So, you can not save strings of more than 5 characters in *greeting1*. if you want, you can add the number of bytes you want reserve for your string, even if you are not going to use all of them at the begining."
   ]
  },
  {
   "cell_type": "code",
   "execution_count": 6,
   "metadata": {},
   "outputs": [],
   "source": [
    "char str1[21] = \"Hello\";"
   ]
  },
  {
   "cell_type": "markdown",
   "metadata": {},
   "source": [
    "In this case, you can store up to 20 characters and 1 null. The first 4 bytes have the letters H, e, l, l, o. The fifth position has the null character, and the remaining 15 probably have garbage, but that is not a problem, because the string finishes when a null character is found.\n",
    "\n",
    "You can also reserve the space in memory without initializing it:"
   ]
  },
  {
   "cell_type": "code",
   "execution_count": 7,
   "metadata": {},
   "outputs": [],
   "source": [
    "char str2[21];"
   ]
  },
  {
   "cell_type": "markdown",
   "metadata": {},
   "source": [
    "Remember that an string is an array, it means, a pointer, so after initializing, you can not assign a new string directly:"
   ]
  },
  {
   "cell_type": "code",
   "execution_count": 8,
   "metadata": {},
   "outputs": [
    {
     "name": "stderr",
     "output_type": "stream",
     "text": [
      "\u001b[1minput_line_14:2:7: \u001b[0m\u001b[0;1;31merror: \u001b[0m\u001b[1marray type 'char [21]' is not assignable\u001b[0m\n",
      " str1 = \"Bye\";\n",
      "\u001b[0;1;32m ~~~~ ^\n",
      "\u001b[0m"
     ]
    },
    {
     "ename": "Interpreter Error",
     "evalue": "",
     "output_type": "error",
     "traceback": [
      "Interpreter Error: "
     ]
    }
   ],
   "source": [
    "str1 = \"Bye\";"
   ]
  },
  {
   "cell_type": "markdown",
   "metadata": {},
   "source": [
    "You need to assign the value of each position of the array:"
   ]
  },
  {
   "cell_type": "code",
   "execution_count": 9,
   "metadata": {},
   "outputs": [
    {
     "name": "stdout",
     "output_type": "stream",
     "text": [
      "Bye\n"
     ]
    }
   ],
   "source": [
    "str1[0] = 'B';\n",
    "str1[1] = 'y';\n",
    "str1[2] = 'e';\n",
    "str1[3] = '\\0';\n",
    "std::cout << str1 << std::endl;"
   ]
  },
  {
   "cell_type": "markdown",
   "metadata": {},
   "source": [
    "Or you can use the function *strcpy()* to simplify the process:"
   ]
  },
  {
   "cell_type": "code",
   "execution_count": 10,
   "metadata": {},
   "outputs": [
    {
     "name": "stdout",
     "output_type": "stream",
     "text": [
      "Hola a todos\n"
     ]
    }
   ],
   "source": [
    "strcpy(str1, \"Hola a todos\");\n",
    "std::cout << str1 << std::endl;"
   ]
  },
  {
   "cell_type": "markdown",
   "metadata": {},
   "source": [
    "*strcpy()* is one of the functions to manage strings in C. Theyn are:\n",
    "* **strcpy(s1, s2)** Copies the string *s2* into *s1*.\n",
    "* **strcat(s1, s2)** Concatenates the string *s2* at the end of *s1*.\n",
    "* **strlen(s1)** Return the length of *s1* (does not include the null character)\n",
    "* **strcmp(s1, s2)** return 0 if *s1* and *s2* are the same."
   ]
  },
  {
   "cell_type": "markdown",
   "metadata": {},
   "source": [
    "### Allocating Memory Dynamically\n",
    "\n",
    "You can also allocate memory dynamically:"
   ]
  },
  {
   "cell_type": "code",
   "execution_count": 11,
   "metadata": {},
   "outputs": [],
   "source": [
    "int N = 289;\n",
    "// More code lines...\n",
    "char *stringAllocated;\n",
    "// More code lines...\n",
    "\n",
    "stringAllocated = new char[N];"
   ]
  },
  {
   "cell_type": "markdown",
   "metadata": {},
   "source": [
    "Or you can create an \"array of strings\":"
   ]
  },
  {
   "cell_type": "code",
   "execution_count": 12,
   "metadata": {},
   "outputs": [],
   "source": [
    "char **vecStr; \n",
    "\n",
    "vecStr = new char*[4];\n",
    "for(int i=0; i<4; i++){\n",
    "    vecStr[i] = new char[80];\n",
    "}\n",
    "strcpy(vecStr[2], \"HOLA\");"
   ]
  }
 ],
 "metadata": {
  "kernelspec": {
   "display_name": "C++14",
   "language": "C++14",
   "name": "xeus-cling-cpp14"
  },
  "language_info": {
   "codemirror_mode": "text/x-c++src",
   "file_extension": ".cpp",
   "mimetype": "text/x-c++src",
   "name": "c++",
   "version": "-std=c++14"
  }
 },
 "nbformat": 4,
 "nbformat_minor": 2
}
