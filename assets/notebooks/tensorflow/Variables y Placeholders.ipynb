{
 "cells": [
  {
   "cell_type": "code",
   "execution_count": 3,
   "metadata": {},
   "outputs": [],
   "source": [
    "import tensorflow as tf\n",
    "import numpy as np\n",
    "sess = tf.InteractiveSession()"
   ]
  },
  {
   "cell_type": "markdown",
   "metadata": {},
   "source": [
    "# Variables y Placeholders"
   ]
  },
  {
   "cell_type": "code",
   "execution_count": 4,
   "metadata": {},
   "outputs": [],
   "source": [
    "my_tensor = tf.random_uniform((4,4), 0, 1)"
   ]
  },
  {
   "cell_type": "code",
   "execution_count": 5,
   "metadata": {},
   "outputs": [
    {
     "name": "stdout",
     "output_type": "stream",
     "text": [
      "WARNING:tensorflow:From /home/camilo/anaconda3/lib/python3.7/site-packages/tensorflow/python/framework/op_def_library.py:263: colocate_with (from tensorflow.python.framework.ops) is deprecated and will be removed in a future version.\n",
      "Instructions for updating:\n",
      "Colocations handled automatically by placer.\n"
     ]
    }
   ],
   "source": [
    "my_var = tf.Variable(initial_value=my_tensor)"
   ]
  },
  {
   "cell_type": "code",
   "execution_count": 6,
   "metadata": {},
   "outputs": [
    {
     "name": "stdout",
     "output_type": "stream",
     "text": [
      "<tf.Variable 'Variable:0' shape=(4, 4) dtype=float32_ref>\n"
     ]
    }
   ],
   "source": [
    "print(my_var)"
   ]
  },
  {
   "cell_type": "markdown",
   "metadata": {},
   "source": [
    "Inicializar variables:"
   ]
  },
  {
   "cell_type": "code",
   "execution_count": 7,
   "metadata": {},
   "outputs": [],
   "source": [
    "init = tf.global_variables_initializer()\n",
    "init.run()"
   ]
  },
  {
   "cell_type": "code",
   "execution_count": 8,
   "metadata": {},
   "outputs": [
    {
     "data": {
      "text/plain": [
       "array([[0.05373049, 0.9865644 , 0.39076686, 0.11859226],\n",
       "       [0.83903563, 0.49888468, 0.4123106 , 0.7631725 ],\n",
       "       [0.4475019 , 0.7381072 , 0.19355321, 0.9880121 ],\n",
       "       [0.5986153 , 0.9898772 , 0.21553135, 0.11127865]], dtype=float32)"
      ]
     },
     "execution_count": 8,
     "metadata": {},
     "output_type": "execute_result"
    }
   ],
   "source": [
    "my_var.eval()"
   ]
  },
  {
   "cell_type": "markdown",
   "metadata": {},
   "source": [
    "## Placeholders"
   ]
  },
  {
   "cell_type": "code",
   "execution_count": 9,
   "metadata": {},
   "outputs": [
    {
     "name": "stdout",
     "output_type": "stream",
     "text": [
      "[[62.45471012 97.84129961 28.1041045  24.46408835 64.58886122]\n",
      " [31.43593191 59.76892076 49.47126567 90.0665763   1.07881039]\n",
      " [ 4.7386105  93.85715056 96.65839494 81.73125831 87.47093859]\n",
      " [17.42619878 65.62312227 55.22935889 41.35911001 57.25887328]\n",
      " [58.36864511 20.7459899  93.30746235 74.33615588 23.95016661]] \n",
      "\n",
      "[[18.95800273]\n",
      " [94.96410213]\n",
      " [44.78535771]\n",
      " [17.29420152]\n",
      " [90.76136371]] \n",
      "\n"
     ]
    }
   ],
   "source": [
    "rand_a = np.random.uniform(0,100,(5,5))\n",
    "rand_b = np.random.uniform(0,100,(5,1))\n",
    "print(rand_a, '\\n')\n",
    "print(rand_b, '\\n')"
   ]
  },
  {
   "cell_type": "markdown",
   "metadata": {},
   "source": [
    "### Placeholders"
   ]
  },
  {
   "cell_type": "code",
   "execution_count": 10,
   "metadata": {},
   "outputs": [],
   "source": [
    "a = tf.placeholder(tf.float32)\n",
    "b = tf.placeholder(tf.float32)"
   ]
  },
  {
   "cell_type": "markdown",
   "metadata": {},
   "source": [
    "### Operaciones"
   ]
  },
  {
   "cell_type": "code",
   "execution_count": 12,
   "metadata": {},
   "outputs": [],
   "source": [
    "add_op = a + b\n",
    "mult_op = a * b"
   ]
  },
  {
   "cell_type": "code",
   "execution_count": 15,
   "metadata": {},
   "outputs": [
    {
     "name": "stdout",
     "output_type": "stream",
     "text": [
      "[[ 81.41271  116.7993    47.062107  43.42209   83.54686 ]\n",
      " [126.40004  154.73303  144.43536  185.03067   96.042915]\n",
      " [ 49.523968 138.6425   141.44376  126.51662  132.2563  ]\n",
      " [ 34.720398  82.91733   72.52356   58.653313  74.55307 ]\n",
      " [149.13     111.507355 184.06882  165.09752  114.711525]] \n",
      "\n",
      "[[1184.0166  1854.8756   532.79767  463.79025 1224.4757 ]\n",
      " [2985.2852  5675.902   4697.994   8553.092    102.44826]\n",
      " [ 212.22035 4203.426   4328.881   3660.3635  3917.4175 ]\n",
      " [ 301.3722  1134.8995   955.14764  715.27277  990.24646]\n",
      " [5297.6177  1882.9343  8468.712   6746.851   2173.7498 ]] \n",
      "\n"
     ]
    }
   ],
   "source": [
    "with tf.Session() as sess:\n",
    "    add_result = sess.run(add_op, feed_dict={a:rand_a, b:rand_b})\n",
    "    print(add_result, '\\n')\n",
    "    \n",
    "    mult_result = sess.run(mult_op, feed_dict={a:rand_a, b:rand_b})\n",
    "    print(mult_result, '\\n')"
   ]
  },
  {
   "cell_type": "code",
   "execution_count": null,
   "metadata": {},
   "outputs": [],
   "source": []
  }
 ],
 "metadata": {
  "kernelspec": {
   "display_name": "Python 3",
   "language": "python",
   "name": "python3"
  },
  "language_info": {
   "codemirror_mode": {
    "name": "ipython",
    "version": 3
   },
   "file_extension": ".py",
   "mimetype": "text/x-python",
   "name": "python",
   "nbconvert_exporter": "python",
   "pygments_lexer": "ipython3",
   "version": "3.7.1"
  }
 },
 "nbformat": 4,
 "nbformat_minor": 2
}
